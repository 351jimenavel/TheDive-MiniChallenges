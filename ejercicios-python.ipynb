{
 "cells": [
  {
   "cell_type": "markdown",
   "id": "365a8588",
   "metadata": {},
   "source": [
    "# Mini Challenge - The Dive\n",
    "\n",
    "### # 1  Inversión de una Cadena\n",
    "\n",
    "Escribe un programa que invierta una cadena de caracteres dada por el\n",
    "usuario."
   ]
  },
  {
   "cell_type": "code",
   "execution_count": null,
   "id": "78089459",
   "metadata": {},
   "outputs": [
    {
     "name": "stdout",
     "output_type": "stream",
     "text": [
      "aloh\n"
     ]
    }
   ],
   "source": [
    "palabra_ingresada_por_el_usuario = input(\"Ingresa una palabra\")\n",
    "print(palabra_ingresada_por_el_usuario[::-1])       # inicio, final, la inversa"
   ]
  },
  {
   "cell_type": "markdown",
   "id": "fc027dde",
   "metadata": {},
   "source": [
    "#2 Tabla de Multiplicar\n",
    "\n",
    "Escribe un programa que muestre la tabla de multiplicar de un número\n",
    "dado por el usuario."
   ]
  },
  {
   "cell_type": "code",
   "execution_count": 19,
   "id": "928cb9cd",
   "metadata": {},
   "outputs": [
    {
     "name": "stdout",
     "output_type": "stream",
     "text": [
      "8 x 1 =  8\n",
      "8 x 2 =  16\n",
      "8 x 3 =  24\n",
      "8 x 4 =  32\n",
      "8 x 5 =  40\n",
      "8 x 6 =  48\n",
      "8 x 7 =  56\n",
      "8 x 8 =  64\n",
      "8 x 9 =  72\n",
      "8 x 10 =  80\n"
     ]
    }
   ],
   "source": [
    "# Pedir al usuario que ingrese un numero\n",
    "numero_ingresado_usuario = int(input(\"Ingresa un numero para mostrar su tabla de multiplicar\"))\n",
    "# Calcular valores\n",
    "for numero in range(1, 11):\n",
    "    print(f'{numero_ingresado_usuario} x {numero} = ', end=' ') #https://www.freecodecamp.org/espanol/news/salto-de-linea-en-python-como-imprimir-en-python-sin-un-salto-de-linea/\n",
    "    numero = numero * numero_ingresado_usuario\n",
    "# Mostrar tabla\n",
    "    print(numero)\n"
   ]
  },
  {
   "cell_type": "markdown",
   "id": "5b2a943f",
   "metadata": {},
   "source": [
    "Dia 3 - Contar Vocales\n",
    "\n",
    "Escribe un programa que cuente el número de vocales en una cadena\n",
    "dada."
   ]
  },
  {
   "cell_type": "code",
   "execution_count": 24,
   "id": "e679c6c6",
   "metadata": {},
   "outputs": [
    {
     "name": "stdout",
     "output_type": "stream",
     "text": [
      "6\n"
     ]
    }
   ],
   "source": [
    "def contar_cantidad_de_vocales(palabra):\n",
    "    vocales = ['a','e','i','o','u','A','E','I','O','U']\n",
    "    contador = 0\n",
    "    for vocal in palabra:\n",
    "        if vocal in vocales:\n",
    "            contador = contador + 1\n",
    "    print(contador)\n",
    "contar_cantidad_de_vocales('Hola soy Jimena')"
   ]
  },
  {
   "cell_type": "markdown",
   "id": "82691454",
   "metadata": {},
   "source": [
    "Dia 4 - Ordenar Lista\n",
    "Escribe un programa que ordene una lista de números dada por el usuario\n",
    "en orden ascendente."
   ]
  },
  {
   "cell_type": "code",
   "execution_count": null,
   "id": "e7990b97",
   "metadata": {},
   "outputs": [
    {
     "name": "stdout",
     "output_type": "stream",
     "text": [
      "Añade 5 numeros a la lista\n",
      "Estas añadiendo 5/5 numeros. \n",
      "Tu lista desordenada se ve así: [1, 97, 45, 34, 8]\n",
      "Tu lista ordenada se ve así: [1, 8, 34, 45, 97]\n"
     ]
    }
   ],
   "source": [
    "lista_de_numeros = []\n",
    "numeros_ingresados_por_el_usuario = int(input(\"Ingresa numeros\"))\n",
    "\n",
    "contador = 0\n",
    "numeros_maximos = 5\n",
    "print(f\"Añade {numeros_maximos} numeros a la lista\")\n",
    "\n",
    "while contador < numeros_maximos:\n",
    "    lista_de_numeros.append(numeros_ingresados_por_el_usuario)\n",
    "    numeros_ingresados_por_el_usuario = int(input(\"Ingresa numeros\"))\n",
    "    \n",
    "    contador += 1\n",
    "    print(f\"\\rEstas añadiendo {contador}/{numeros_maximos} numeros.\", end=' ')\n",
    "\n",
    "print(f'\\nTu lista desordenada se ve así: {lista_de_numeros}')\n",
    "lista_de_numeros.sort()\n",
    "print(f'Tu lista ordenada se ve así: {lista_de_numeros}')"
   ]
  },
  {
   "cell_type": "markdown",
   "id": "c5a90538",
   "metadata": {},
   "source": [
    "Dia 5 - Crear un Diccionario\n",
    "\n",
    "Escribe un programa que cree un diccionario a partir de dos listas dadas:\n",
    "una de claves y otra de valores."
   ]
  },
  {
   "cell_type": "code",
   "execution_count": 42,
   "id": "9a719bb1",
   "metadata": {},
   "outputs": [
    {
     "name": "stdout",
     "output_type": "stream",
     "text": [
      "Tu diccionario de claves y valores es: {'nombre': 'Jimena', 'apellido': 'Velázquez', 'edad': 20}\n"
     ]
    }
   ],
   "source": [
    "lista_de_claves = ['nombre','apellido','edad']\n",
    "lista_de_valores = ['Jimena','Velázquez',20]\n",
    "\n",
    "diccionario_claves_y_valores = dict(zip(lista_de_claves, lista_de_valores))\n",
    "print(f'Tu diccionario de claves y valores es: {diccionario_claves_y_valores}')\n"
   ]
  },
  {
   "cell_type": "markdown",
   "id": "dd62de11",
   "metadata": {},
   "source": [
    "Dia 6 - Conversión de Temperatura\n",
    "\n",
    "Escribe un programa que convierta una temperatura dada en grados\n",
    "Celsius a grados Fahrenheit."
   ]
  },
  {
   "cell_type": "code",
   "execution_count": 3,
   "id": "e7659e1c",
   "metadata": {},
   "outputs": [
    {
     "name": "stdout",
     "output_type": "stream",
     "text": [
      "La temperatura en grados celsius es de: 80 °C\n",
      "La temperatura en grados Fahrenheit es de: 176 °F\n"
     ]
    }
   ],
   "source": [
    "temperatura_celsius = 80\n",
    "\n",
    "# Calculo de la temperatura a grados Fahrenheit\n",
    "temperatura_fahrenheit = (((temperatura_celsius * 9)//5)+32)\n",
    "print(f'La temperatura en grados celsius es de: {temperatura_celsius} °C')\n",
    "print(f'La temperatura en grados Fahrenheit es de: {temperatura_fahrenheit} °F')"
   ]
  },
  {
   "cell_type": "markdown",
   "id": "6bc16b51",
   "metadata": {},
   "source": [
    "Dia 7 - Juego de Piedra, Papel o Tijeras\n",
    "\n",
    "Escribe un programa que permita al usuario jugar piedra, papel o tijeras\n",
    "contra la computadora."
   ]
  },
  {
   "cell_type": "code",
   "execution_count": 69,
   "id": "cf77580d",
   "metadata": {},
   "outputs": [
    {
     "name": "stdout",
     "output_type": "stream",
     "text": [
      "Tienes un número: 1. Piedra, 2. Papel, 3. Tijera\n",
      "Van 1/3 turnos \n",
      "***Es tu turno elige***\n",
      "Elegiste: Papel\n",
      "**Turno de la computadora***\n",
      "La computadora eligió: Papel\n",
      "EMPATE\n",
      "Van 2/3 turnos \n",
      "***Es tu turno elige***\n",
      "Elegiste: Tijera\n",
      "**Turno de la computadora***\n",
      "La computadora eligió: Papel\n",
      "TIJERA GANA A PAPEL\n",
      "\n",
      "Van 3/3 turnos \n",
      "***Es tu turno elige***\n",
      "Elegiste: Papel\n",
      "**Turno de la computadora***\n",
      "La computadora eligió: Papel\n",
      "EMPATE\n"
     ]
    }
   ],
   "source": [
    "import random\n",
    "# Bienvenida\n",
    "# 3 opciones (Piedra, papel o tijera)\n",
    "print(\"Tienes un número: 1. Piedra, 2. Papel, 3. Tijera\")\n",
    "# Usuario elige su opcion\n",
    "#eleccion_usuario = int(input(\"Elige tu movimiento\"))\n",
    "\n",
    "turnos_max = 3\n",
    "turnos = 0\n",
    "while turnos < turnos_max:\n",
    "    \n",
    "    turnos += 1\n",
    "    print(f'\\rVan {turnos}/{turnos_max} turnos', end=' ')\n",
    "    print(\"\\n***Es tu turno elige***\")\n",
    "    eleccion_usuario = int(input(\"Elige tu movimiento\"))\n",
    "\n",
    "    if eleccion_usuario == 1:\n",
    "        print(\"Eligiste: Piedra\")\n",
    "    elif eleccion_usuario == 2:\n",
    "        print(\"Elegiste: Papel\")\n",
    "    elif eleccion_usuario == 3:\n",
    "        print(\"Elegiste: Tijera\")\n",
    "    else:\n",
    "        print(\"Movimiento inválido. Vuelve a elegir\")\n",
    "    \n",
    "    # computadora en random\n",
    "    print(\"**Turno de la computadora***\")\n",
    "    elecciones_validas = ['Piedra', 'Papel', 'Tijera']\n",
    "    eleccion_computadora = random.choice(elecciones_validas)\n",
    "    print(f'La computadora eligió: {eleccion_computadora}')\n",
    "\n",
    "    # Definir estados terminales.\n",
    "    if (eleccion_usuario == 1 and eleccion_computadora == 'Tijera') or (eleccion_usuario == 3 and eleccion_computadora == 'Piedra'):\n",
    "        print(\"PIEDRA GANA A TIJERA\")\n",
    "    elif (eleccion_usuario == 2 and eleccion_computadora == 'Piedra') or (eleccion_usuario == 1 and eleccion_computadora == 'Papel'):\n",
    "        print(\"PAPEL GANA A PIEDRA\")\n",
    "    elif (eleccion_usuario == 3 and eleccion_computadora == 'Papel') or (eleccion_usuario == 2 and eleccion_computadora == 'Tijera'):\n",
    "        print(\"TIJERA GANA A PAPEL\")\n",
    "    else:\n",
    "        print(\"EMPATE\")\n",
    "        continue\n",
    "    print()\n",
    "\n"
   ]
  },
  {
   "cell_type": "markdown",
   "id": "3b76fa1d",
   "metadata": {},
   "source": []
  },
  {
   "cell_type": "markdown",
   "id": "3f7e68f7",
   "metadata": {},
   "source": [
    "Dia 8 - Generador de Contraseñas Seguras\n",
    "\n",
    "Escribe un programa que genere una contraseña segura de longitud\n",
    "variable (entre 8 y 16 caracteres) que incluya letras mayúsculas,\n",
    "minúsculas, números y símbolos"
   ]
  },
  {
   "cell_type": "code",
   "execution_count": 14,
   "id": "3889051c",
   "metadata": {},
   "outputs": [
    {
     "name": "stdout",
     "output_type": "stream",
     "text": [
      "Contraseña segura:  KrtHh5XYIFpWP*y\n"
     ]
    }
   ],
   "source": [
    "import random\n",
    "\n",
    "letras_mayuscula = 'ABCDEFGHIJKLMNOPQRSTUYWXZ'\n",
    "letras_minuscula = 'abcdefghijklmnopqrstuywxz'\n",
    "simbolos = '!&*-?¿¡'\n",
    "numeros = '123456789'\n",
    "\n",
    "todos = letras_mayuscula + letras_minuscula + simbolos + numeros\n",
    "\n",
    "contraseña = []\n",
    "contador = random.randint(8,16)\n",
    "\n",
    "while contador > 0:\n",
    "    caracter = random.choice(todos)\n",
    "    contraseña.append(caracter)\n",
    "    contador -= 1\n",
    "    \n",
    "print(\"Contraseña segura: \", \"\".join(contraseña))"
   ]
  },
  {
   "cell_type": "markdown",
   "id": "1b88ce13",
   "metadata": {},
   "source": [
    "# Los ejercicios de C++ estan en su archivo correspondiente!!!!"
   ]
  }
 ],
 "metadata": {
  "kernelspec": {
   "display_name": "Python 3",
   "language": "python",
   "name": "python3"
  },
  "language_info": {
   "codemirror_mode": {
    "name": "ipython",
    "version": 3
   },
   "file_extension": ".py",
   "mimetype": "text/x-python",
   "name": "python",
   "nbconvert_exporter": "python",
   "pygments_lexer": "ipython3",
   "version": "3.11.9"
  }
 },
 "nbformat": 4,
 "nbformat_minor": 5
}
